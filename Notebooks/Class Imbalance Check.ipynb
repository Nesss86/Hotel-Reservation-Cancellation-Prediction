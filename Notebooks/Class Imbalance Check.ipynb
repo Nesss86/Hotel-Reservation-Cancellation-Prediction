{
 "cells": [
  {
   "cell_type": "code",
   "execution_count": 1,
   "id": "58b13fb0-bc37-45db-bdde-cae32db260b1",
   "metadata": {},
   "outputs": [
    {
     "name": "stdout",
     "output_type": "stream",
     "text": [
      "Class Distribution:\n",
      "booking_status_Not_Canceled\n",
      "True     10547\n",
      "False     6199\n",
      "Name: count, dtype: int64\n",
      "\n",
      "Percentage of Canceled Bookings: 37.02%\n",
      "Percentage of Not Canceled Bookings: 62.98%\n",
      "\n",
      "Count of Canceled Bookings: 6199\n",
      "Count of Not Canceled Bookings: 10547\n",
      "\n",
      "No significant class imbalance detected.\n"
     ]
    },
    {
     "name": "stderr",
     "output_type": "stream",
     "text": [
      "/var/folders/px/kvh7hvv10l91f3w9qbs6h3x00000gn/T/ipykernel_62761/4032761602.py:15: FutureWarning: Series.__getitem__ treating keys as positions is deprecated. In a future version, integer keys will always be treated as labels (consistent with DataFrame behavior). To access a value by position, use `ser.iloc[pos]`\n",
      "  percentage_canceled = (class_distribution[1] / total_samples) * 100\n",
      "/var/folders/px/kvh7hvv10l91f3w9qbs6h3x00000gn/T/ipykernel_62761/4032761602.py:16: FutureWarning: Series.__getitem__ treating keys as positions is deprecated. In a future version, integer keys will always be treated as labels (consistent with DataFrame behavior). To access a value by position, use `ser.iloc[pos]`\n",
      "  percentage_not_canceled = (class_distribution[0] / total_samples) * 100\n",
      "/var/folders/px/kvh7hvv10l91f3w9qbs6h3x00000gn/T/ipykernel_62761/4032761602.py:23: FutureWarning: Series.__getitem__ treating keys as positions is deprecated. In a future version, integer keys will always be treated as labels (consistent with DataFrame behavior). To access a value by position, use `ser.iloc[pos]`\n",
      "  print(\"\\nCount of Canceled Bookings:\", class_distribution[1])\n",
      "/var/folders/px/kvh7hvv10l91f3w9qbs6h3x00000gn/T/ipykernel_62761/4032761602.py:24: FutureWarning: Series.__getitem__ treating keys as positions is deprecated. In a future version, integer keys will always be treated as labels (consistent with DataFrame behavior). To access a value by position, use `ser.iloc[pos]`\n",
      "  print(\"Count of Not Canceled Bookings:\", class_distribution[0])\n"
     ]
    }
   ],
   "source": [
    "import pandas as pd\n",
    "\n",
    "# Step 1: Read the cleaned dataset\n",
    "df_cleaned = pd.read_csv('cleaned_dataset1.csv')\n",
    "\n",
    "# Step 2: Check the class distribution of the target variable\n",
    "class_distribution = df_cleaned['booking_status_Not_Canceled'].value_counts()\n",
    "\n",
    "# Step 3: Print the class distribution\n",
    "print(\"Class Distribution:\")\n",
    "print(class_distribution)\n",
    "\n",
    "# Step 4: Calculate the percentage of each class\n",
    "total_samples = df_cleaned.shape[0]\n",
    "percentage_canceled = (class_distribution[1] / total_samples) * 100\n",
    "percentage_not_canceled = (class_distribution[0] / total_samples) * 100\n",
    "\n",
    "# Step 5: Print the percentages\n",
    "print(\"\\nPercentage of Canceled Bookings: {:.2f}%\".format(percentage_canceled))\n",
    "print(\"Percentage of Not Canceled Bookings: {:.2f}%\".format(percentage_not_canceled))\n",
    "\n",
    "# Step 6: Print the counts of canceled and not canceled bookings\n",
    "print(\"\\nCount of Canceled Bookings:\", class_distribution[1])\n",
    "print(\"Count of Not Canceled Bookings:\", class_distribution[0])\n",
    "\n",
    "# Step 7: Check for class imbalance\n",
    "if percentage_canceled > 70 or percentage_not_canceled > 70:\n",
    "    print(\"\\nWarning: Class imbalance detected!\")\n",
    "else:\n",
    "    print(\"\\nNo significant class imbalance detected.\")"
   ]
  }
 ],
 "metadata": {
  "kernelspec": {
   "display_name": "Python 3 (ipykernel)",
   "language": "python",
   "name": "python3"
  },
  "language_info": {
   "codemirror_mode": {
    "name": "ipython",
    "version": 3
   },
   "file_extension": ".py",
   "mimetype": "text/x-python",
   "name": "python",
   "nbconvert_exporter": "python",
   "pygments_lexer": "ipython3",
   "version": "3.11.5"
  }
 },
 "nbformat": 4,
 "nbformat_minor": 5
}
