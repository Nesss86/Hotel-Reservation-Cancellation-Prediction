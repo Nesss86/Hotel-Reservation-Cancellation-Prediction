{
 "cells": [
  {
   "cell_type": "code",
   "execution_count": 1,
   "id": "daab928a-1040-482e-9a13-effbb888c103",
   "metadata": {},
   "outputs": [],
   "source": [
    "import pandas as pd\n",
    "import matplotlib as plt"
   ]
  },
  {
   "cell_type": "code",
   "execution_count": 2,
   "id": "311008dc-596b-4744-9993-a479c7b7a0a6",
   "metadata": {},
   "outputs": [
    {
     "name": "stdout",
     "output_type": "stream",
     "text": [
      "  Booking_ID  no_of_adults  no_of_children  no_of_weekend_nights  \\\n",
      "0   INN00001             2               0                     1   \n",
      "1   INN00002             2               0                     2   \n",
      "2   INN00003             1               0                     2   \n",
      "3   INN00004             2               0                     0   \n",
      "4   INN00005             2               0                     1   \n",
      "\n",
      "   no_of_week_nights  required_car_parking_space  lead_time  arrival_year  \\\n",
      "0                  2                           0        224          2017   \n",
      "1                  3                           0          5          2018   \n",
      "2                  1                           0          1          2018   \n",
      "3                  2                           0        211          2018   \n",
      "4                  1                           0         48          2018   \n",
      "\n",
      "   arrival_month  arrival_date  ...  room_type_reserved_Room_Type 3  \\\n",
      "0             10             2  ...                           False   \n",
      "1             11             6  ...                           False   \n",
      "2              2            28  ...                           False   \n",
      "3              5            20  ...                           False   \n",
      "4              4            11  ...                           False   \n",
      "\n",
      "   room_type_reserved_Room_Type 4  room_type_reserved_Room_Type 5  \\\n",
      "0                           False                           False   \n",
      "1                           False                           False   \n",
      "2                           False                           False   \n",
      "3                           False                           False   \n",
      "4                           False                           False   \n",
      "\n",
      "   room_type_reserved_Room_Type 6  room_type_reserved_Room_Type 7  \\\n",
      "0                           False                           False   \n",
      "1                           False                           False   \n",
      "2                           False                           False   \n",
      "3                           False                           False   \n",
      "4                           False                           False   \n",
      "\n",
      "   market_segment_type_Complementary  market_segment_type_Corporate  \\\n",
      "0                              False                          False   \n",
      "1                              False                          False   \n",
      "2                              False                          False   \n",
      "3                              False                          False   \n",
      "4                              False                          False   \n",
      "\n",
      "   market_segment_type_Offline  market_segment_type_Online  \\\n",
      "0                         True                       False   \n",
      "1                        False                        True   \n",
      "2                        False                        True   \n",
      "3                        False                        True   \n",
      "4                        False                        True   \n",
      "\n",
      "   booking_status_Not_Canceled  \n",
      "0                         True  \n",
      "1                         True  \n",
      "2                        False  \n",
      "3                        False  \n",
      "4                        False  \n",
      "\n",
      "[5 rows x 29 columns]\n"
     ]
    }
   ],
   "source": [
    "# Read the CSV file into a DataFrame\n",
    "df = pd.read_csv('Hotel Reservations.csv')\n",
    "\n",
    "# Identify categorical variables that need to be encoded\n",
    "categorical_columns = ['type_of_meal_plan', 'room_type_reserved', 'market_segment_type', 'booking_status']\n",
    "\n",
    "# Perform one-hot encoding for each categorical variable\n",
    "df_encoded = pd.get_dummies(df, columns=categorical_columns, drop_first=True)\n",
    "\n",
    "# Display the first few rows of the encoded DataFrame to verify the transformation\n",
    "print(df_encoded.head())"
   ]
  },
  {
   "cell_type": "code",
   "execution_count": 3,
   "id": "f3213c0e-c721-40c1-97d5-b24b674372eb",
   "metadata": {},
   "outputs": [
    {
     "name": "stdout",
     "output_type": "stream",
     "text": [
      "(36275, 19)\n"
     ]
    }
   ],
   "source": [
    "print(df.shape)"
   ]
  },
  {
   "cell_type": "code",
   "execution_count": 7,
   "id": "1bf1cafe-3474-42e2-9827-77aa0c2bd08d",
   "metadata": {},
   "outputs": [
    {
     "name": "stdout",
     "output_type": "stream",
     "text": [
      "Booking_ID                               object\n",
      "no_of_adults                              int64\n",
      "no_of_children                            int64\n",
      "no_of_weekend_nights                      int64\n",
      "no_of_week_nights                         int64\n",
      "type_of_meal_plan                        object\n",
      "required_car_parking_space                int64\n",
      "room_type_reserved                       object\n",
      "lead_time                                 int64\n",
      "arrival_year                              int64\n",
      "arrival_month                             int64\n",
      "arrival_date                              int64\n",
      "market_segment_type                      object\n",
      "repeated_guest                            int64\n",
      "no_of_previous_cancellations              int64\n",
      "no_of_previous_bookings_not_canceled      int64\n",
      "avg_price_per_room                      float64\n",
      "no_of_special_requests                    int64\n",
      "booking_status                           object\n",
      "dtype: object\n"
     ]
    }
   ],
   "source": [
    "# Check the data types of features in the DataFrame\n",
    "print(df.dtypes)"
   ]
  },
  {
   "cell_type": "code",
   "execution_count": 8,
   "id": "864662ac-07cd-4a4d-a1a0-a60b9a0f4a66",
   "metadata": {},
   "outputs": [
    {
     "name": "stdout",
     "output_type": "stream",
     "text": [
      "Index(['no_of_adults', 'no_of_children', 'no_of_weekend_nights',\n",
      "       'no_of_week_nights', 'required_car_parking_space', 'lead_time',\n",
      "       'arrival_year', 'arrival_month', 'arrival_date', 'repeated_guest',\n",
      "       'no_of_previous_cancellations', 'no_of_previous_bookings_not_canceled',\n",
      "       'avg_price_per_room', 'no_of_special_requests'],\n",
      "      dtype='object')\n"
     ]
    }
   ],
   "source": [
    "import pandas as pd\n",
    "\n",
    "# Assuming your DataFrame is named df\n",
    "numerical_columns = df.select_dtypes(include=['int64', 'float64']).columns\n",
    "\n",
    "# Print the list of numerical columns\n",
    "print(numerical_columns)"
   ]
  },
  {
   "cell_type": "code",
   "execution_count": 9,
   "id": "fc92a36b-fac7-4af5-a151-126b687152af",
   "metadata": {},
   "outputs": [],
   "source": [
    "numerical_columns = ['no_of_adults', 'no_of_children', 'no_of_weekend_nights',\n",
    "                     'no_of_week_nights', 'required_car_parking_space', 'lead_time',\n",
    "                     'arrival_year', 'arrival_month', 'arrival_date', 'repeated_guest',\n",
    "                     'no_of_previous_cancellations', 'no_of_previous_bookings_not_canceled',\n",
    "                     'avg_price_per_room', 'no_of_special_requests']"
   ]
  },
  {
   "cell_type": "code",
   "execution_count": 10,
   "id": "c2c879c1-f79d-40ed-aa58-6841bfa6f754",
   "metadata": {},
   "outputs": [
    {
     "name": "stdout",
     "output_type": "stream",
     "text": [
      "Shape of cleaned dataset: (16746, 29)\n"
     ]
    }
   ],
   "source": [
    "# Calculate the interquartile range (IQR) for each numerical feature\n",
    "Q1 = df_encoded[numerical_columns].quantile(0.25)\n",
    "Q3 = df_encoded[numerical_columns].quantile(0.75)\n",
    "IQR = Q3 - Q1\n",
    "\n",
    "# Define a threshold for identifying outliers (e.g., 1.5 times the IQR)\n",
    "threshold = 1.5\n",
    "\n",
    "# Identify outliers based on the threshold\n",
    "outliers = ((df_encoded[numerical_columns] < (Q1 - threshold * IQR)) | (df_encoded[numerical_columns] > (Q3 + threshold * IQR))).any(axis=1)\n",
    "\n",
    "# Remove outliers from the dataset\n",
    "df_cleaned = df_encoded[~outliers]\n",
    "\n",
    "# Display the shape of the cleaned dataset to see how many outliers were removed\n",
    "print(\"Shape of cleaned dataset:\", df_cleaned.shape)"
   ]
  },
  {
   "cell_type": "code",
   "execution_count": 15,
   "id": "7ffe8a8c-815a-42c0-9b26-504049ee4486",
   "metadata": {},
   "outputs": [
    {
     "name": "stderr",
     "output_type": "stream",
     "text": [
      "/Users/vanessalittle/anaconda3/lib/python3.11/site-packages/sklearn/utils/validation.py:767: FutureWarning: is_sparse is deprecated and will be removed in a future version. Check `isinstance(dtype, pd.SparseDtype)` instead.\n",
      "  if not hasattr(array, \"sparse\") and array.dtypes.apply(is_sparse).any():\n",
      "/Users/vanessalittle/anaconda3/lib/python3.11/site-packages/sklearn/utils/validation.py:605: FutureWarning: is_sparse is deprecated and will be removed in a future version. Check `isinstance(dtype, pd.SparseDtype)` instead.\n",
      "  if is_sparse(pd_dtype):\n",
      "/Users/vanessalittle/anaconda3/lib/python3.11/site-packages/sklearn/utils/validation.py:614: FutureWarning: is_sparse is deprecated and will be removed in a future version. Check `isinstance(dtype, pd.SparseDtype)` instead.\n",
      "  if is_sparse(pd_dtype) or not is_extension_array_dtype(pd_dtype):\n",
      "/Users/vanessalittle/anaconda3/lib/python3.11/site-packages/sklearn/utils/validation.py:605: FutureWarning: is_sparse is deprecated and will be removed in a future version. Check `isinstance(dtype, pd.SparseDtype)` instead.\n",
      "  if is_sparse(pd_dtype):\n",
      "/Users/vanessalittle/anaconda3/lib/python3.11/site-packages/sklearn/utils/validation.py:614: FutureWarning: is_sparse is deprecated and will be removed in a future version. Check `isinstance(dtype, pd.SparseDtype)` instead.\n",
      "  if is_sparse(pd_dtype) or not is_extension_array_dtype(pd_dtype):\n"
     ]
    },
    {
     "name": "stdout",
     "output_type": "stream",
     "text": [
      "Selected Features: Index(['no_of_weekend_nights', 'no_of_week_nights', 'lead_time',\n",
      "       'arrival_month', 'arrival_date', 'repeated_guest',\n",
      "       'no_of_previous_cancellations', 'no_of_previous_bookings_not_canceled',\n",
      "       'avg_price_per_room', 'no_of_special_requests'],\n",
      "      dtype='object')\n"
     ]
    }
   ],
   "source": [
    "# Extract numerical features from the cleaned dataset\n",
    "X_numeric = df_cleaned[numerical_columns]\n",
    "\n",
    "# Convert to binary format: 0 for not canceled, 1 for canceled\n",
    "y_binary = (df_cleaned['booking_status_Not_Canceled'] != 1).astype(int)\n",
    "\n",
    "# Now, use the binary target variable 'y_binary' in the RFE\n",
    "# Initialize the RFE object with the Random Forest classifier and specify the number of features to select\n",
    "rfe = RFE(estimator=rf_classifier, n_features_to_select=10)\n",
    "\n",
    "# Fit the RFE object to data\n",
    "rfe.fit(X_numeric, y_binary)\n",
    "\n",
    "# Get the selected features\n",
    "selected_features = X_numeric.columns[rfe.support_]\n",
    "print(\"Selected Features:\", selected_features)"
   ]
  },
  {
   "cell_type": "code",
   "execution_count": 16,
   "id": "a15d0d99-6786-49ca-bbee-5c98bf036258",
   "metadata": {},
   "outputs": [],
   "source": [
    "# Save the cleaned dataset\n",
    "df_cleaned.to_csv('cleaned_dataset1.csv', index=False)"
   ]
  }
 ],
 "metadata": {
  "kernelspec": {
   "display_name": "Python 3 (ipykernel)",
   "language": "python",
   "name": "python3"
  },
  "language_info": {
   "codemirror_mode": {
    "name": "ipython",
    "version": 3
   },
   "file_extension": ".py",
   "mimetype": "text/x-python",
   "name": "python",
   "nbconvert_exporter": "python",
   "pygments_lexer": "ipython3",
   "version": "3.11.5"
  }
 },
 "nbformat": 4,
 "nbformat_minor": 5
}
